{
  "cells": [
    {
      "cell_type": "markdown",
      "metadata": {},
      "source": [
        "**Exercise 2: Create markdown cell with title of the notebook**"
      ]
    },
    {
      "cell_type": "markdown",
      "metadata": {},
      "source": [
        "# H1: Data Science Tools and Ecosystem"
      ]
    },
    {
      "cell_type": "markdown",
      "metadata": {},
      "source": [
        "**Exercise 3 - Create a markdown cell for an introduction**"
      ]
    },
    {
      "cell_type": "markdown",
      "metadata": {},
      "source": [
        "In this notebook, Data Science Tools and Ecosystem are summarized."
      ]
    },
    {
      "cell_type": "markdown",
      "metadata": {},
      "source": [
        "***Exercise 4 - Create a markdown cell to list data science languages***"
      ]
    },
    {
      "cell_type": "markdown",
      "metadata": {},
      "source": [
        "Some of the popular languages that Data Scientists use are:  \n",
        "1.Python  \n",
        "2.Scala  \n",
        "3.R  "
      ]
    },
    {
      "cell_type": "markdown",
      "metadata": {},
      "source": [
        "**Exercise 5 - Create a markdown cell to list data science libraries**"
      ]
    },
    {
      "cell_type": "markdown",
      "metadata": {},
      "source": [
        "Some of the commonly used libraries used by Data Scientists include:   \n",
        "- Keras  \n",
        "- Numpy  \n",
        "- Pandas"
      ]
    },
    {
      "cell_type": "markdown",
      "metadata": {},
      "source": [
        "**Exercise 6 - Create a markdown cell with a table of Data Science tools**"
      ]
    },
    {
      "cell_type": "markdown",
      "metadata": {},
      "source": [
        "**Data Science Tools:**"
      ]
    },
    {
      "cell_type": "markdown",
      "metadata": {},
      "source": [
        "\n",
        "|S.No | Tools | \n",
        "| ------ | ------ |\n",
        "| 1 | Apache Hadoop |\n",
        "|2 | R Studio |\n",
        "| 3 | Apache Spark |\n",
        " "
      ]
    },
    {
      "cell_type": "markdown",
      "metadata": {},
      "source": [
        "**Exercise 7 - Create a markdown cell introducing arithmetic expression examples**"
      ]
    },
    {
      "cell_type": "markdown",
      "metadata": {},
      "source": [
        "### H3: Below are a few examples of evaluating arithmetic expressions in Python"
      ]
    },
    {
      "cell_type": "code",
      "execution_count": 6,
      "metadata": {
        "trusted": true
      },
      "outputs": [
        {
          "name": "stdout",
          "output_type": "stream",
          "text": [
            "Sum :  13\n",
            "Sub :  1\n",
            "Mul :  42\n"
          ]
        }
      ],
      "source": [
        "a=6 \n",
        "b=7\n",
        "sum_res=a+b\n",
        "print(\"Sum : \",sum_res)\n",
        "sub_res=b-a\n",
        "print(\"Sub : \",sub_res)\n",
        "mul_res=a*b\n",
        "print(\"Mul : \",mul_res)"
      ]
    },
    {
      "cell_type": "markdown",
      "metadata": {},
      "source": [
        "**Exercise 8 - Create a code cell to multiply and add numbers**"
      ]
    },
    {
      "cell_type": "code",
      "execution_count": 7,
      "metadata": {
        "trusted": true
      },
      "outputs": [
        {
          "data": {
            "text/plain": [
              "17"
            ]
          },
          "execution_count": 7,
          "metadata": {},
          "output_type": "execute_result"
        }
      ],
      "source": [
        "#This a simple arithmetic expression to mutiply then add integers\n",
        "(3*4)+5"
      ]
    },
    {
      "cell_type": "markdown",
      "metadata": {},
      "source": [
        "**Exercise 9 - Create a code cell to convert minutes to hours**"
      ]
    },
    {
      "cell_type": "code",
      "execution_count": 8,
      "metadata": {
        "trusted": true
      },
      "outputs": [
        {
          "name": "stdout",
          "output_type": "stream",
          "text": [
            "3.3333333333333335\n"
          ]
        }
      ],
      "source": [
        "#This will convert 200 minutes to hours by diving by 60\n",
        "minute=200\n",
        "per_hour=60\n",
        "res_conversion=minute/per_hour\n",
        "print(res_conversion)"
      ]
    },
    {
      "cell_type": "markdown",
      "metadata": {},
      "source": [
        "**Exercise 10 - Insert a markdown cell to list Objectives**"
      ]
    },
    {
      "cell_type": "markdown",
      "metadata": {},
      "source": [
        "**Objectives:**"
      ]
    },
    {
      "cell_type": "markdown",
      "metadata": {},
      "source": [
        "List popular languages for Data Science:\n",
        "* Python\n",
        "* R\n",
        "* SQL"
      ]
    },
    {
      "cell_type": "markdown",
      "metadata": {},
      "source": [
        "**Exercise 11 - Create a markdown cell to indicate the Author's name**"
      ]
    },
    {
      "cell_type": "markdown",
      "metadata": {},
      "source": [
        "## H2: Author : <tb>Pooja Kishore<tb>"
      ]
    }
  ],
  "metadata": {
    "kernelspec": {
      "display_name": "Pyolite",
      "language": "python",
      "name": "python"
    },
    "language_info": {
      "codemirror_mode": {
        "name": "python",
        "version": 3
      },
      "file_extension": ".py",
      "mimetype": "text/x-python",
      "name": "python",
      "nbconvert_exporter": "python",
      "pygments_lexer": "ipython3",
      "version": "3.8"
    }
  },
  "nbformat": 4,
  "nbformat_minor": 4
}
